{
 "cells": [
  {
   "metadata": {},
   "cell_type": "markdown",
   "source": "# Практические примеры",
   "id": "727afbcc3ea81038"
  },
  {
   "metadata": {},
   "cell_type": "markdown",
   "source": "## Пример 1: Загрузка и исследование данных",
   "id": "eba4d505863b445a"
  },
  {
   "cell_type": "code",
   "id": "initial_id",
   "metadata": {
    "collapsed": true,
    "ExecuteTime": {
     "end_time": "2025-10-16T10:56:42.622589Z",
     "start_time": "2025-10-16T10:56:42.600300Z"
    }
   },
   "source": [
    "import pandas as pd\n",
    "import numpy as np\n",
    "\n",
    "# Создаем демонстрационный DataFrame\n",
    "data = {\n",
    "    'id': range(1, 11),\n",
    "    'name': ['Alice', 'Bob', 'Charlie', 'David', 'Eva',\n",
    "             'Frank', 'Grace', 'Henry', 'Ivy', 'Jack'],\n",
    "    'age': [25, 32, 45, 27, 36, 29, 41, 33, 28, 39],\n",
    "    'city': ['Moscow', 'SPb', 'Moscow', 'Kazan', 'SPb',\n",
    "             'Moscow', 'Kazan', 'Moscow', 'SPb', 'Moscow'],\n",
    "    'salary': [50000, 75000, 60000, 45000, 80000,\n",
    "               55000, 70000, 65000, 48000, 90000],\n",
    "    'department': ['IT', 'HR', 'IT', 'Finance', 'HR',\n",
    "                   'IT', 'IT', 'IT', 'HR', 'IT'],\n",
    "    'experience': [2, 5, 10, 3, 8, 4, 12, 6, 3, 9]\n",
    "}\n",
    "\n",
    "df = pd.DataFrame(data)\n",
    "print(\"Исходные данные:\")\n",
    "print(df)\n",
    "\n",
    "# Исследование данных\n",
    "print(\"\\nПервые 3 строки:\")\n",
    "print(df.head(3))\n",
    "\n",
    "print(\"\\nИнформация о данных:\")\n",
    "print(df.info())\n",
    "\n",
    "print(\"\\nСтатистика по числовым столбцам:\")\n",
    "print(df.describe())\n",
    "\n",
    "print(\"\\nРазмерность данных:\")\n",
    "print(f\"Строк: {df.shape[0]}, Столбцов: {df.shape[1]}\")"
   ],
   "outputs": [
    {
     "name": "stdout",
     "output_type": "stream",
     "text": [
      "Исходные данные:\n",
      "   id     name  age    city  salary department  experience\n",
      "0   1    Alice   25  Moscow   50000         IT           2\n",
      "1   2      Bob   32     SPb   75000         HR           5\n",
      "2   3  Charlie   45  Moscow   60000         IT          10\n",
      "3   4    David   27   Kazan   45000    Finance           3\n",
      "4   5      Eva   36     SPb   80000         HR           8\n",
      "5   6    Frank   29  Moscow   55000         IT           4\n",
      "6   7    Grace   41   Kazan   70000         IT          12\n",
      "7   8    Henry   33  Moscow   65000         IT           6\n",
      "8   9      Ivy   28     SPb   48000         HR           3\n",
      "9  10     Jack   39  Moscow   90000         IT           9\n",
      "\n",
      "Первые 3 строки:\n",
      "   id     name  age    city  salary department  experience\n",
      "0   1    Alice   25  Moscow   50000         IT           2\n",
      "1   2      Bob   32     SPb   75000         HR           5\n",
      "2   3  Charlie   45  Moscow   60000         IT          10\n",
      "\n",
      "Информация о данных:\n",
      "<class 'pandas.core.frame.DataFrame'>\n",
      "RangeIndex: 10 entries, 0 to 9\n",
      "Data columns (total 7 columns):\n",
      " #   Column      Non-Null Count  Dtype \n",
      "---  ------      --------------  ----- \n",
      " 0   id          10 non-null     int64 \n",
      " 1   name        10 non-null     object\n",
      " 2   age         10 non-null     int64 \n",
      " 3   city        10 non-null     object\n",
      " 4   salary      10 non-null     int64 \n",
      " 5   department  10 non-null     object\n",
      " 6   experience  10 non-null     int64 \n",
      "dtypes: int64(4), object(3)\n",
      "memory usage: 692.0+ bytes\n",
      "None\n",
      "\n",
      "Статистика по числовым столбцам:\n",
      "             id        age        salary  experience\n",
      "count  10.00000  10.000000     10.000000   10.000000\n",
      "mean    5.50000  33.500000  63800.000000    6.200000\n",
      "std     3.02765   6.603871  14905.629063    3.392803\n",
      "min     1.00000  25.000000  45000.000000    2.000000\n",
      "25%     3.25000  28.250000  51250.000000    3.250000\n",
      "50%     5.50000  32.500000  62500.000000    5.500000\n",
      "75%     7.75000  38.250000  73750.000000    8.750000\n",
      "max    10.00000  45.000000  90000.000000   12.000000\n",
      "\n",
      "Размерность данных:\n",
      "Строк: 10, Столбцов: 7\n"
     ]
    }
   ],
   "execution_count": 80
  },
  {
   "metadata": {},
   "cell_type": "markdown",
   "source": "## Пример 2: Фильтрация данных",
   "id": "acb794737654056a"
  },
  {
   "metadata": {
    "ExecuteTime": {
     "end_time": "2025-10-16T10:56:42.649121Z",
     "start_time": "2025-10-16T10:56:42.632495Z"
    }
   },
   "cell_type": "code",
   "source": [
    "# Фильтрация по одному условию\n",
    "high_salary = df[df['salary'] > 70000]\n",
    "print(\"Сотрудники с зарплатой > 70000:\")\n",
    "print(high_salary)\n",
    "\n",
    "# Фильтрация по нескольким условиям\n",
    "moscow_it = df[(df['city'] == 'Moscow') & (df['department'] == 'IT')]\n",
    "print(\"\\nIT сотрудники из Москвы:\")\n",
    "print(moscow_it)\n",
    "\n",
    "# Использование query\n",
    "experienced_young = df.query('experience > 5 and age < 40')\n",
    "print(\"\\nОпытные молодые сотрудники:\")\n",
    "print(experienced_young)\n",
    "\n",
    "# Фильтрация с isin\n",
    "cities_filter = df[df['city'].isin(['Moscow', 'SPb'])]\n",
    "print(\"\\nСотрудники из Москвы и СПб:\")\n",
    "print(cities_filter)\n",
    "\n",
    "# Комплексная фильтрация\n",
    "complex_filter = df[\n",
    "    (df['salary'] > 50000) &\n",
    "    (df['age'].between(30, 40)) &\n",
    "    (df['department'] != 'HR')\n",
    "]\n",
    "print(\"\\nКомплексная фильтрация:\")\n",
    "print(complex_filter)"
   ],
   "id": "823f2c03973bd955",
   "outputs": [
    {
     "name": "stdout",
     "output_type": "stream",
     "text": [
      "Сотрудники с зарплатой > 70000:\n",
      "   id  name  age    city  salary department  experience\n",
      "1   2   Bob   32     SPb   75000         HR           5\n",
      "4   5   Eva   36     SPb   80000         HR           8\n",
      "9  10  Jack   39  Moscow   90000         IT           9\n",
      "\n",
      "IT сотрудники из Москвы:\n",
      "   id     name  age    city  salary department  experience\n",
      "0   1    Alice   25  Moscow   50000         IT           2\n",
      "2   3  Charlie   45  Moscow   60000         IT          10\n",
      "5   6    Frank   29  Moscow   55000         IT           4\n",
      "7   8    Henry   33  Moscow   65000         IT           6\n",
      "9  10     Jack   39  Moscow   90000         IT           9\n",
      "\n",
      "Опытные молодые сотрудники:\n",
      "   id   name  age    city  salary department  experience\n",
      "4   5    Eva   36     SPb   80000         HR           8\n",
      "7   8  Henry   33  Moscow   65000         IT           6\n",
      "9  10   Jack   39  Moscow   90000         IT           9\n",
      "\n",
      "Сотрудники из Москвы и СПб:\n",
      "   id     name  age    city  salary department  experience\n",
      "0   1    Alice   25  Moscow   50000         IT           2\n",
      "1   2      Bob   32     SPb   75000         HR           5\n",
      "2   3  Charlie   45  Moscow   60000         IT          10\n",
      "4   5      Eva   36     SPb   80000         HR           8\n",
      "5   6    Frank   29  Moscow   55000         IT           4\n",
      "7   8    Henry   33  Moscow   65000         IT           6\n",
      "8   9      Ivy   28     SPb   48000         HR           3\n",
      "9  10     Jack   39  Moscow   90000         IT           9\n",
      "\n",
      "Комплексная фильтрация:\n",
      "   id   name  age    city  salary department  experience\n",
      "7   8  Henry   33  Moscow   65000         IT           6\n",
      "9  10   Jack   39  Moscow   90000         IT           9\n"
     ]
    }
   ],
   "execution_count": 81
  },
  {
   "metadata": {},
   "cell_type": "markdown",
   "source": "## Пример 3: Группировка данных",
   "id": "ae46730b3881c839"
  },
  {
   "metadata": {
    "ExecuteTime": {
     "end_time": "2025-10-16T10:56:42.680133Z",
     "start_time": "2025-10-16T10:56:42.660126Z"
    }
   },
   "cell_type": "code",
   "source": [
    "# Базовая группировка\n",
    "city_stats = df.groupby('city')['salary'].agg(['mean', 'min', 'max', 'count'])\n",
    "print(\"Статистика зарплат по городам:\")\n",
    "print(city_stats)\n",
    "\n",
    "# Группировка по нескольким столбцам\n",
    "dept_city_stats = df.groupby(['department', 'city'])['salary'].mean()\n",
    "print(\"\\nСредняя зарплата по отделам и городам:\")\n",
    "print(dept_city_stats)\n",
    "\n",
    "# Множественная агрегация\n",
    "detailed_stats = df.groupby('department').agg({\n",
    "    'salary': ['mean', 'min', 'max', 'std'],\n",
    "    'age': ['mean', 'median'],\n",
    "    'experience': 'mean',\n",
    "    'id': 'count'\n",
    "})\n",
    "print(\"\\nДетальная статистика по отделам:\")\n",
    "print(detailed_stats)\n",
    "\n",
    "# Группировка с трансформацией\n",
    "df['avg_salary_by_city'] = df.groupby('city')['salary'].transform('mean')\n",
    "print(\"\\nДанные с средней зарплатой по городу:\")\n",
    "print(df[['name', 'city', 'salary', 'avg_salary_by_city']])"
   ],
   "id": "f97c72e1a4f3b08b",
   "outputs": [
    {
     "name": "stdout",
     "output_type": "stream",
     "text": [
      "Статистика зарплат по городам:\n",
      "                mean    min    max  count\n",
      "city                                     \n",
      "Kazan   57500.000000  45000  70000      2\n",
      "Moscow  64000.000000  50000  90000      5\n",
      "SPb     67666.666667  48000  80000      3\n",
      "\n",
      "Средняя зарплата по отделам и городам:\n",
      "department  city  \n",
      "Finance     Kazan     45000.000000\n",
      "HR          SPb       67666.666667\n",
      "IT          Kazan     70000.000000\n",
      "            Moscow    64000.000000\n",
      "Name: salary, dtype: float64\n",
      "\n",
      "Детальная статистика по отделам:\n",
      "                  salary                                    age         \\\n",
      "                    mean    min    max           std       mean median   \n",
      "department                                                               \n",
      "Finance     45000.000000  45000  45000           NaN  27.000000   27.0   \n",
      "HR          67666.666667  48000  80000  17214.335112  32.000000   32.0   \n",
      "IT          65000.000000  50000  90000  14142.135624  35.333333   36.0   \n",
      "\n",
      "           experience    id  \n",
      "                 mean count  \n",
      "department                   \n",
      "Finance      3.000000     1  \n",
      "HR           5.333333     3  \n",
      "IT           7.166667     6  \n",
      "\n",
      "Данные с средней зарплатой по городу:\n",
      "      name    city  salary  avg_salary_by_city\n",
      "0    Alice  Moscow   50000        64000.000000\n",
      "1      Bob     SPb   75000        67666.666667\n",
      "2  Charlie  Moscow   60000        64000.000000\n",
      "3    David   Kazan   45000        57500.000000\n",
      "4      Eva     SPb   80000        67666.666667\n",
      "5    Frank  Moscow   55000        64000.000000\n",
      "6    Grace   Kazan   70000        57500.000000\n",
      "7    Henry  Moscow   65000        64000.000000\n",
      "8      Ivy     SPb   48000        67666.666667\n",
      "9     Jack  Moscow   90000        64000.000000\n"
     ]
    }
   ],
   "execution_count": 82
  },
  {
   "metadata": {},
   "cell_type": "markdown",
   "source": "## Пример 4: Комплексный анализ",
   "id": "d155bc4737ff4389"
  },
  {
   "metadata": {
    "ExecuteTime": {
     "end_time": "2025-10-16T10:56:42.707860Z",
     "start_time": "2025-10-16T10:56:42.690034Z"
    }
   },
   "cell_type": "code",
   "source": [
    "# Анализ эффективности сотрудников\n",
    "df['efficiency'] = df['salary'] / df['experience']\n",
    "\n",
    "# Группировка и сортировка\n",
    "city_efficiency = df.groupby('city').agg({\n",
    "    'efficiency': 'mean',\n",
    "    'salary': 'mean',\n",
    "    'experience': 'mean',\n",
    "    'id': 'count'\n",
    "}).round(2)\n",
    "\n",
    "city_efficiency = city_efficiency.sort_values('efficiency', ascending=False)\n",
    "print(\"Эффективность по городам:\")\n",
    "print(city_efficiency)\n",
    "\n",
    "# Анализ по возрасту\n",
    "age_bins = [20, 30, 40, 50]\n",
    "age_labels = ['20-30', '31-40', '41-50']\n",
    "df['age_group'] = pd.cut(df['age'], bins=age_bins, labels=age_labels)\n",
    "\n",
    "age_analysis = df.groupby('age_group', observed=True).agg({\n",
    "    'salary': ['mean', 'median'],\n",
    "    'experience': 'mean',\n",
    "    'efficiency': 'mean'\n",
    "}).round(2)\n",
    "\n",
    "print(\"\\nАнализ по возрастным группам:\")\n",
    "print(age_analysis)"
   ],
   "id": "563082b16167aff4",
   "outputs": [
    {
     "name": "stdout",
     "output_type": "stream",
     "text": [
      "Эффективность по городам:\n",
      "        efficiency    salary  experience  id\n",
      "city                                        \n",
      "SPb       13666.67  67666.67        5.33   3\n",
      "Moscow    13116.67  64000.00        6.20   5\n",
      "Kazan     10416.67  57500.00        7.50   2\n",
      "\n",
      "Анализ по возрастным группам:\n",
      "            salary          experience efficiency\n",
      "              mean   median       mean       mean\n",
      "age_group                                        \n",
      "20-30      49500.0  49000.0        3.0   17437.50\n",
      "31-40      77500.0  77500.0        7.0   11458.33\n",
      "41-50      65000.0  65000.0       11.0    5916.67\n"
     ]
    }
   ],
   "execution_count": 83
  },
  {
   "metadata": {},
   "cell_type": "markdown",
   "source": "# Задачи для самостоятельного решения",
   "id": "17f2e55ed73ea7e6"
  },
  {
   "metadata": {},
   "cell_type": "markdown",
   "source": "## Задача 1: Базовое исследование данных",
   "id": "f72a00d318e71b7c"
  },
  {
   "metadata": {
    "ExecuteTime": {
     "end_time": "2025-10-16T10:56:42.730817Z",
     "start_time": "2025-10-16T10:56:42.717009Z"
    }
   },
   "cell_type": "code",
   "source": [
    "# Данные для задачи\n",
    "sales_data = {\n",
    "    'order_id': [101, 102, 103, 104, 105, 106, 107, 108, 109, 110],\n",
    "    'product': ['A', 'B', 'A', 'C', 'B', 'A', 'C', 'B', 'A', 'C'],\n",
    "    'category': ['Electronics', 'Books', 'Electronics', 'Clothing', 'Books',\n",
    "                'Electronics', 'Clothing', 'Books', 'Electronics', 'Clothing'],\n",
    "    'price': [1500, 500, 1700, 300, 450, 1600, 350, 480, 1550, 320],\n",
    "    'quantity': [2, 1, 3, 2, 1, 2, 3, 1, 2, 2],\n",
    "    'customer_city': ['Moscow', 'SPb', 'Moscow', 'Kazan', 'SPb',\n",
    "                     'Moscow', 'Kazan', 'SPb', 'Moscow', 'Kazan']\n",
    "}\n",
    "df = pd.DataFrame(sales_data)\n",
    "\n",
    "print('Первые 5 строк')\n",
    "print(df.head(5))\n",
    "\n",
    "print('Типы данных')\n",
    "print(df.dtypes)\n",
    "\n",
    "print('Статистика по числовым столбцам')\n",
    "print(df.describe())\n",
    "\n",
    "print('Размер')\n",
    "print(df.shape)"
   ],
   "id": "9442330f065f6ed5",
   "outputs": [
    {
     "name": "stdout",
     "output_type": "stream",
     "text": [
      "Первые 5 строк\n",
      "   order_id product     category  price  quantity customer_city\n",
      "0       101       A  Electronics   1500         2        Moscow\n",
      "1       102       B        Books    500         1           SPb\n",
      "2       103       A  Electronics   1700         3        Moscow\n",
      "3       104       C     Clothing    300         2         Kazan\n",
      "4       105       B        Books    450         1           SPb\n",
      "Типы данных\n",
      "order_id          int64\n",
      "product          object\n",
      "category         object\n",
      "price             int64\n",
      "quantity          int64\n",
      "customer_city    object\n",
      "dtype: object\n",
      "Статистика по числовым столбцам\n",
      "        order_id        price   quantity\n",
      "count   10.00000    10.000000  10.000000\n",
      "mean   105.50000   875.000000   1.900000\n",
      "std      3.02765   618.605062   0.737865\n",
      "min    101.00000   300.000000   1.000000\n",
      "25%    103.25000   375.000000   1.250000\n",
      "50%    105.50000   490.000000   2.000000\n",
      "75%    107.75000  1537.500000   2.000000\n",
      "max    110.00000  1700.000000   3.000000\n",
      "Размер\n",
      "(10, 6)\n"
     ]
    }
   ],
   "execution_count": 84
  },
  {
   "metadata": {},
   "cell_type": "markdown",
   "source": "## Задача 2: Фильтрация данных",
   "id": "716bfad5399f397f"
  },
  {
   "metadata": {
    "ExecuteTime": {
     "end_time": "2025-10-16T10:56:42.753082Z",
     "start_time": "2025-10-16T10:56:42.739860Z"
    }
   },
   "cell_type": "code",
   "source": [
    "print('Больше 1000')\n",
    "print(df[df['price'] > 1000])\n",
    "\n",
    "print('Заказы из Москвы с количеством товаров больше 1')\n",
    "print(df[(df['customer_city'] == 'Moscow') & (df['quantity'] > 1)])\n",
    "\n",
    "print('Заказы категорий \"Electronics\" или \"Books\"')\n",
    "print(df[df['category'].isin(['Electronics', 'Books'])])\n",
    "\n",
    "print('Заказы с ценой между 400 и 600')\n",
    "print(df[df['price'].between(400, 600)])\n",
    "\n",
    "print('Заказы, где город не \"Moscow\" и количество товаров равно 1')\n",
    "print(df[(df['customer_city'] != 'Moscow') & (df['quantity'] == 1)])"
   ],
   "id": "1ea0cbe545261adf",
   "outputs": [
    {
     "name": "stdout",
     "output_type": "stream",
     "text": [
      "Больше 1000\n",
      "   order_id product     category  price  quantity customer_city\n",
      "0       101       A  Electronics   1500         2        Moscow\n",
      "2       103       A  Electronics   1700         3        Moscow\n",
      "5       106       A  Electronics   1600         2        Moscow\n",
      "8       109       A  Electronics   1550         2        Moscow\n",
      "Заказы из Москвы с количеством товаров больше 1\n",
      "   order_id product     category  price  quantity customer_city\n",
      "0       101       A  Electronics   1500         2        Moscow\n",
      "2       103       A  Electronics   1700         3        Moscow\n",
      "5       106       A  Electronics   1600         2        Moscow\n",
      "8       109       A  Electronics   1550         2        Moscow\n",
      "Заказы категорий \"Electronics\" или \"Books\"\n",
      "   order_id product     category  price  quantity customer_city\n",
      "0       101       A  Electronics   1500         2        Moscow\n",
      "1       102       B        Books    500         1           SPb\n",
      "2       103       A  Electronics   1700         3        Moscow\n",
      "4       105       B        Books    450         1           SPb\n",
      "5       106       A  Electronics   1600         2        Moscow\n",
      "7       108       B        Books    480         1           SPb\n",
      "8       109       A  Electronics   1550         2        Moscow\n",
      "Заказы с ценой между 400 и 600\n",
      "   order_id product category  price  quantity customer_city\n",
      "1       102       B    Books    500         1           SPb\n",
      "4       105       B    Books    450         1           SPb\n",
      "7       108       B    Books    480         1           SPb\n",
      "Заказы, где город не \"Moscow\" и количество товаров равно 1\n",
      "   order_id product category  price  quantity customer_city\n",
      "1       102       B    Books    500         1           SPb\n",
      "4       105       B    Books    450         1           SPb\n",
      "7       108       B    Books    480         1           SPb\n"
     ]
    }
   ],
   "execution_count": 85
  },
  {
   "metadata": {},
   "cell_type": "markdown",
   "source": "## Задача 3: Группировка и агрегация",
   "id": "10e3976d5c1227ea"
  },
  {
   "metadata": {
    "ExecuteTime": {
     "end_time": "2025-10-16T10:56:42.775970Z",
     "start_time": "2025-10-16T10:56:42.761732Z"
    }
   },
   "cell_type": "code",
   "source": [
    "# city_stats = df.groupby('city')['salary'].agg(['mean', 'min', 'max', 'count'])\n",
    "print('Общая выручка по каждому продукту')\n",
    "df['total_revenue'] = df['price'] * df['quantity']\n",
    "print(df.groupby('product')['total_revenue'].agg(['sum']))\n",
    "\n",
    "print('Средняя цена по каждой категории')\n",
    "print(df.groupby('category')['price'].agg(['mean']))\n",
    "\n",
    "print('Максимальное количество товаров в заказе по каждому городу')\n",
    "print(df.groupby('customer_city')['quantity'].agg(['max']))\n",
    "\n",
    "print('Количество заказов по каждой категории и городу')\n",
    "print(df.groupby(['category', 'customer_city'])['quantity'].agg(['count']))\n",
    "\n",
    "print('Самый дорогой и самый дешевый товар в каждой категории')\n",
    "print(df.groupby('category')['price'].agg(['min', 'max']))"
   ],
   "id": "97f23d8fae00e9bc",
   "outputs": [
    {
     "name": "stdout",
     "output_type": "stream",
     "text": [
      "Общая выручка по каждому продукту\n",
      "           sum\n",
      "product       \n",
      "A        14400\n",
      "B         1430\n",
      "C         2290\n",
      "Средняя цена по каждой категории\n",
      "                    mean\n",
      "category                \n",
      "Books         476.666667\n",
      "Clothing      323.333333\n",
      "Electronics  1587.500000\n",
      "Максимальное количество товаров в заказе по каждому городу\n",
      "               max\n",
      "customer_city     \n",
      "Kazan            3\n",
      "Moscow           3\n",
      "SPb              1\n",
      "Количество заказов по каждой категории и городу\n",
      "                           count\n",
      "category    customer_city       \n",
      "Books       SPb                3\n",
      "Clothing    Kazan              3\n",
      "Electronics Moscow             4\n",
      "Самый дорогой и самый дешевый товар в каждой категории\n",
      "              min   max\n",
      "category               \n",
      "Books         450   500\n",
      "Clothing      300   350\n",
      "Electronics  1500  1700\n"
     ]
    }
   ],
   "execution_count": 86
  },
  {
   "metadata": {},
   "cell_type": "markdown",
   "source": "## Задача 4: Комплексный анализ",
   "id": "731561f84aa0dc31"
  },
  {
   "metadata": {
    "ExecuteTime": {
     "end_time": "2025-10-16T10:56:42.801331Z",
     "start_time": "2025-10-16T10:56:42.784106Z"
    }
   },
   "cell_type": "code",
   "source": [
    "# Добавьте данные о скидках\n",
    "discount_data = {\n",
    "    'order_id': [101, 102, 103, 104, 105, 106, 107, 108, 109, 110],\n",
    "    'discount': [10, 5, 15, 0, 5, 10, 0, 5, 15, 0]\n",
    "}\n",
    "\n",
    "discount_df = pd.DataFrame(discount_data)\n",
    "\n",
    "# Объедините данные о скидках с основным DataFrame\n",
    "new_df = df.merge(discount_df, on='order_id')\n",
    "\n",
    "# Рассчитайте финальную стоимость заказа (цена * количество - скидка)\n",
    "new_df['total'] = new_df['total_revenue'] - new_df['discount']\n",
    "\n",
    "# Сгруппируйте данные по категориям и посчитайте:\n",
    "result = new_df.groupby('category').agg({\n",
    "    'total': 'sum',\n",
    "    'discount': 'mean',\n",
    "    'product': 'nunique',\n",
    "    'quantity': 'mean'\n",
    "})\n",
    "print(result)\n",
    "\n",
    "# Создайте сводную таблицу: города по строкам, категории по столбцам, значения - общая выручка\n",
    "pivot_table = new_df.pivot_table(\n",
    "    values='total',           # Можно использовать 'total_revenue' для выручки до скидок\n",
    "    index='customer_city',\n",
    "    columns='category',\n",
    "    aggfunc='sum',\n",
    "    fill_value=0\n",
    ")\n",
    "print(pivot_table)\n",
    "\n",
    "# Найдите топ-3 продукта по общей выручке\n",
    "result = new_df.groupby('product')['total'].agg('sum').sort_values(ascending=False)\n",
    "print(result.head(3))"
   ],
   "id": "21e06cb7c9c3c7da",
   "outputs": [
    {
     "name": "stdout",
     "output_type": "stream",
     "text": [
      "             total  discount  product  quantity\n",
      "category                                       \n",
      "Books         1415       5.0        1  1.000000\n",
      "Clothing      2290       0.0        1  2.333333\n",
      "Electronics  14350      12.5        1  2.250000\n",
      "category       Books  Clothing  Electronics\n",
      "customer_city                              \n",
      "Kazan              0      2290            0\n",
      "Moscow             0         0        14350\n",
      "SPb             1415         0            0\n",
      "product\n",
      "A    14350\n",
      "C     2290\n",
      "B     1415\n",
      "Name: total, dtype: int64\n"
     ]
    }
   ],
   "execution_count": 87
  },
  {
   "metadata": {},
   "cell_type": "markdown",
   "source": "## Задача 5: Анализ эффективности",
   "id": "c6c43ed9e04da8ac"
  },
  {
   "metadata": {
    "ExecuteTime": {
     "end_time": "2025-10-16T10:56:42.821521Z",
     "start_time": "2025-10-16T10:56:42.809486Z"
    }
   },
   "cell_type": "code",
   "source": [
    "# Рассчитайте выручку для каждого заказа\n",
    "print(new_df[['order_id', 'total_revenue']])\n",
    "\n",
    "# Определите самый популярный продукт в каждом городе\n",
    "print(new_df.groupby(['customer_city', 'product']).agg({'order_id': 'count', 'quantity': 'sum'}))\n",
    "\n",
    "# Найдите город с наибольшей средней выручкой на заказ\n",
    "city_avg_revenue = new_df.groupby('customer_city').agg({\n",
    "    'total': 'mean',\n",
    "    'order_id': 'count'\n",
    "}).round(2).sort_values('total', ascending=False)\n",
    "print(city_avg_revenue.iloc[0])"
   ],
   "id": "7fd3f5c69b83d530",
   "outputs": [
    {
     "name": "stdout",
     "output_type": "stream",
     "text": [
      "   order_id  total_revenue\n",
      "0       101           3000\n",
      "1       102            500\n",
      "2       103           5100\n",
      "3       104            600\n",
      "4       105            450\n",
      "5       106           3200\n",
      "6       107           1050\n",
      "7       108            480\n",
      "8       109           3100\n",
      "9       110            640\n",
      "                       order_id  quantity\n",
      "customer_city product                    \n",
      "Kazan         C               3         7\n",
      "Moscow        A               4         9\n",
      "SPb           B               3         3\n",
      "total       3587.5\n",
      "order_id       4.0\n",
      "Name: Moscow, dtype: float64\n"
     ]
    }
   ],
   "execution_count": 88
  }
 ],
 "metadata": {
  "kernelspec": {
   "display_name": "Python 3",
   "language": "python",
   "name": "python3"
  },
  "language_info": {
   "codemirror_mode": {
    "name": "ipython",
    "version": 2
   },
   "file_extension": ".py",
   "mimetype": "text/x-python",
   "name": "python",
   "nbconvert_exporter": "python",
   "pygments_lexer": "ipython2",
   "version": "2.7.6"
  }
 },
 "nbformat": 4,
 "nbformat_minor": 5
}
